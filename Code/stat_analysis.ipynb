{
  "nbformat": 4,
  "nbformat_minor": 0,
  "metadata": {
    "colab": {
      "name": "StatAnalysis.ipynb",
      "provenance": []
    },
    "kernelspec": {
      "name": "python3",
      "display_name": "Python 3"
    }
  },
  "cells": [
    {
      "cell_type": "code",
      "metadata": {
        "colab": {
          "base_uri": "https://localhost:8080/"
        },
        "id": "kMgxqsThGWoM",
        "outputId": "6574db52-b19f-4691-8e3a-cf531cabe172"
      },
      "source": [
        "import numpy as np\r\n",
        "import pandas as pd\r\n",
        "import matplotlib.pyplot as plt\r\n",
        "import math\r\n",
        "from scipy import signal\r\n",
        "from scipy import integrate\r\n",
        "from statsmodels.nonparametric.smoothers_lowess import lowess\r\n",
        "from numpy.fft import fft\r\n",
        "import statistics\r\n",
        "from scipy import stats"
      ],
      "execution_count": 2,
      "outputs": [
        {
          "output_type": "stream",
          "text": [
            "/usr/local/lib/python3.6/dist-packages/statsmodels/tools/_testing.py:19: FutureWarning: pandas.util.testing is deprecated. Use the functions in the public API at pandas.testing instead.\n",
            "  import pandas.util.testing as tm\n"
          ],
          "name": "stderr"
        }
      ]
    },
    {
      "cell_type": "markdown",
      "metadata": {
        "id": "E1ty2X3Kp5Eb"
      },
      "source": [
        "**Reading from CSV Files**"
      ]
    },
    {
      "cell_type": "code",
      "metadata": {
        "id": "1kpM7eGuGg1r"
      },
      "source": [
        "# Reading from CSV files \r\n",
        "adult_ankle = pd.read_csv('Data/GroupData/adult_ankle.csv')\r\n",
        "young_ankle = pd.read_csv('Data/GroupData/young_ankle.csv')\r\n",
        "adult_hand = pd.read_csv('Data/GroupData/adult_hand.csv')\r\n",
        "young_hand = pd.read_csv('Data/GroupData/young_hand.csv')\r\n",
        "adult_pocket = pd.read_csv('Data/GroupData/adult_pocket.csv')\r\n",
        "young_pocket = pd.read_csv('Data/GroupData/young_pocket.csv')"
      ],
      "execution_count": 3,
      "outputs": []
    },
    {
      "cell_type": "markdown",
      "metadata": {
        "id": "nwbYeMy8kvZL"
      },
      "source": [
        "# **Plotting Histograms, Computing Means, Peforming Normality Tests**"
      ]
    },
    {
      "cell_type": "code",
      "metadata": {
        "colab": {
          "base_uri": "https://localhost:8080/",
          "height": 299
        },
        "id": "r5PXPg4aG9zi",
        "outputId": "a73a3f9a-fd6d-47a4-a417-2e7a6d2b8a6b"
      },
      "source": [
        "adult_ankle['AccNet'].hist()\r\n",
        "print(adult_ankle['AccNet'].mean())\r\n",
        "print(stats.normaltest(adult_ankle['AccNet']))"
      ],
      "execution_count": 29,
      "outputs": [
        {
          "output_type": "stream",
          "text": [
            "1.2519315975224148\n",
            "NormaltestResult(statistic=112.09267918558896, pvalue=4.564403019252423e-25)\n"
          ],
          "name": "stdout"
        },
        {
          "output_type": "display_data",
          "data": {
            "image/png": "[encoded data removed]",
            "text/plain": [
              "<Figure size 432x288 with 1 Axes>"
            ]
          },
          "metadata": {
            "tags": [],
            "needs_background": "light"
          }
        }
      ]
    },
    {
      "cell_type": "code",
      "metadata": {
        "colab": {
          "base_uri": "https://localhost:8080/",
          "height": 299
        },
        "id": "Xn2EqfdJMkY2",
        "outputId": "34847594-b234-4c1d-96a8-faf12e2cfe72"
      },
      "source": [
        "adult_hand['AccNet'].hist()\r\n",
        "print(adult_hand['AccNet'].mean())\r\n",
        "print(stats.normaltest(adult_hand['AccNet']))"
      ],
      "execution_count": 30,
      "outputs": [
        {
          "output_type": "stream",
          "text": [
            "1.2135288274042155\n",
            "NormaltestResult(statistic=84.47644019590682, pvalue=4.530791593511817e-19)\n"
          ],
          "name": "stdout"
        },
        {
          "output_type": "display_data",
          "data": {
            "image/png": "[encoded data removed]",
            "text/plain": [
              "<Figure size 432x288 with 1 Axes>"
            ]
          },
          "metadata": {
            "tags": [],
            "needs_background": "light"
          }
        }
      ]
    },
    {
      "cell_type": "code",
      "metadata": {
        "colab": {
          "base_uri": "https://localhost:8080/",
          "height": 299
        },
        "id": "cfC3pt7xMpDF",
        "outputId": "9f7ff07f-794e-4b17-ed9e-b3bc4ea18e3a"
      },
      "source": [
        "adult_pocket['AccNet'].hist()\r\n",
        "print(adult_pocket['AccNet'].mean())\r\n",
        "print(stats.normaltest(adult_pocket['AccNet']))"
      ],
      "execution_count": 31,
      "outputs": [
        {
          "output_type": "stream",
          "text": [
            "1.0151349369194829\n",
            "NormaltestResult(statistic=135.15907348362705, pvalue=4.472806428659619e-30)\n"
          ],
          "name": "stdout"
        },
        {
          "output_type": "display_data",
          "data": {
            "image/png": "[encoded data removed]",
            "text/plain": [
              "<Figure size 432x288 with 1 Axes>"
            ]
          },
          "metadata": {
            "tags": [],
            "needs_background": "light"
          }
        }
      ]
    },
    {
      "cell_type": "code",
      "metadata": {
        "colab": {
          "base_uri": "https://localhost:8080/",
          "height": 299
        },
        "id": "BSL_3WOGMfAh",
        "outputId": "ffacb886-3d85-445a-ec11-44b078f188d7"
      },
      "source": [
        "young_ankle['AccNet'].hist()\r\n",
        "print(young_ankle['AccNet'].mean())\r\n",
        "print(stats.normaltest(young_ankle['AccNet']))"
      ],
      "execution_count": 32,
      "outputs": [
        {
          "output_type": "stream",
          "text": [
            "1.2684420795486977\n",
            "NormaltestResult(statistic=242.37193245955564, pvalue=2.342090013527964e-53)\n"
          ],
          "name": "stdout"
        },
        {
          "output_type": "display_data",
          "data": {
            "image/png": "[encoded data removed]",
            "text/plain": [
              "<Figure size 432x288 with 1 Axes>"
            ]
          },
          "metadata": {
            "tags": [],
            "needs_background": "light"
          }
        }
      ]
    },
    {
      "cell_type": "code",
      "metadata": {
        "colab": {
          "base_uri": "https://localhost:8080/",
          "height": 299
        },
        "id": "UtMcgRMLMnmm",
        "outputId": "31526516-4e9c-4ed5-fe3f-b05c9de06413"
      },
      "source": [
        "young_hand['AccNet'].hist()\r\n",
        "print(young_hand['AccNet'].mean())\r\n",
        "print(stats.normaltest(young_hand['AccNet']))"
      ],
      "execution_count": 33,
      "outputs": [
        {
          "output_type": "stream",
          "text": [
            "1.4107180620606345\n",
            "NormaltestResult(statistic=164.87653761053642, pvalue=1.5758495796836727e-36)\n"
          ],
          "name": "stdout"
        },
        {
          "output_type": "display_data",
          "data": {
            "image/png": "[encoded data removed]",
            "text/plain": [
              "<Figure size 432x288 with 1 Axes>"
            ]
          },
          "metadata": {
            "tags": [],
            "needs_background": "light"
          }
        }
      ]
    },
    {
      "cell_type": "code",
      "metadata": {
        "colab": {
          "base_uri": "https://localhost:8080/",
          "height": 302
        },
        "id": "vtW7sI87M1BY",
        "outputId": "b29f3d44-503e-40c5-f499-5856e5cf9c38"
      },
      "source": [
        "young_pocket['AccNet'].hist()\r\n",
        "print(young_pocket['AccNet'].mean())\r\n",
        "print(stats.normaltest(young_pocket['AccNet']))"
      ],
      "execution_count": 34,
      "outputs": [
        {
          "output_type": "stream",
          "text": [
            "1.021931142988957\n",
            "NormaltestResult(statistic=423.47464306061613, pvalue=1.1057314095993318e-92)\n"
          ],
          "name": "stdout"
        },
        {
          "output_type": "display_data",
          "data": {
            "image/png": "[encoded data removed]",
            "text/plain": [
              "<Figure size 432x288 with 1 Axes>"
            ]
          },
          "metadata": {
            "tags": [],
            "needs_background": "light"
          }
        }
      ]
    },
    {
      "cell_type": "markdown",
      "metadata": {
        "id": "L41Urf7Fqect"
      },
      "source": [
        "**After performing the Normality Test and plotting Histograms, we find out that the data does not pass the normality test.\r\n",
        "Hence, we will now use the Mann-Whitney U-Test to determine if the values of one group sort higher than the other.**"
      ]
    },
    {
      "cell_type": "markdown",
      "metadata": {
        "id": "sUiibK4WpW8-"
      },
      "source": [
        "# **Mann-Whitney U-Test**"
      ]
    },
    {
      "cell_type": "code",
      "metadata": {
        "colab": {
          "base_uri": "https://localhost:8080/"
        },
        "id": "ZtXYNCW7M5Ay",
        "outputId": "c08683ec-92fb-4166-fe56-b511a30596fc"
      },
      "source": [
        "# Mann-Whitney U-test\r\n",
        "# Adult\r\n",
        "\r\n",
        "print('pvalue for Adult ankle vs pocket: ' + str(stats.mannwhitneyu(adult_ankle['AccNet'], adult_pocket['AccNet']).pvalue))\r\n",
        "print('pvalue for Adult ankle vs hand: ' + str(stats.mannwhitneyu(adult_ankle['AccNet'], adult_hand['AccNet']).pvalue))\r\n",
        "print('pvalue for Adult hand vs pocket: ' + str(stats.mannwhitneyu(adult_hand['AccNet'], adult_pocket['AccNet']).pvalue))\r\n",
        "\r\n",
        "# Young\r\n",
        "print('pvalue for Young ankle vs pocket: ' + str(stats.mannwhitneyu(young_ankle['AccNet'], young_pocket['AccNet']).pvalue))\r\n",
        "print('pvalue for Young ankle vs hand: ' + str(stats.mannwhitneyu(young_ankle['AccNet'], young_hand['AccNet']).pvalue))\r\n",
        "print('pvalue for Young hand vs pocket: ' + str(stats.mannwhitneyu(young_hand['AccNet'], young_pocket['AccNet']).pvalue))"
      ],
      "execution_count": 39,
      "outputs": [
        {
          "output_type": "stream",
          "text": [
            "pvalue for Adult ankle vs pocket: 0.0\n",
            "pvalue for Adult ankle vs hand: 9.460402554149801e-45\n",
            "pvalue for Adult hand vs pocket: 7.990730492757298e-247\n",
            "pvalue for Young ankle vs pocket: 3.919213713444326e-269\n",
            "pvalue for Young ankle vs hand: 4.2830034594867104e-150\n",
            "pvalue for Young hand vs pocket: 1.272432180211668e-286\n"
          ],
          "name": "stdout"
        }
      ]
    },
    {
      "cell_type": "markdown",
      "metadata": {
        "id": "8-viz9sEsGit"
      },
      "source": [
        "**Since, we are getting very small pvalues for all the pairs of groups, hence we can say that values from one group tend to sort higher than others.**"
      ]
    },
    {
      "cell_type": "markdown",
      "metadata": {
        "id": "SU418VTppdga"
      },
      "source": [
        "## **Computing Velocity from Instantaneous Acceleration**\r\n",
        "(integrating with respect to time)"
      ]
    },
    {
      "cell_type": "code",
      "metadata": {
        "colab": {
          "base_uri": "https://localhost:8080/"
        },
        "id": "Jz4P_A-2LY9d",
        "outputId": "2f817880-eb39-4d39-ca60-9a9cec795016"
      },
      "source": [
        "# Compute Velocity using Instantaneous Acceleration\r\n",
        "# Adult Ankle\r\n",
        "aa_inst_acc = np.zeros(len(adult_ankle['AccNet'])) \r\n",
        "for i in range(0,len(adult_ankle['AccNet'])):\r\n",
        "  if i==0:\r\n",
        "    aa_inst_acc[0] = adult_ankle['AccNet'].iloc[0]\r\n",
        "  else:\r\n",
        "    aa_inst_acc[i] = adult_ankle['AccNet'].iloc[i] - adult_ankle['AccNet'].iloc[i-1]\r\n",
        "\r\n",
        "adult_ankle['AccInst'] = aa_inst_acc\r\n",
        "aa_vel = integrate.trapz(adult_ankle['AccInst'])\r\n",
        "print(aa_vel)"
      ],
      "execution_count": 53,
      "outputs": [
        {
          "output_type": "stream",
          "text": [
            "0.8054003965679916\n"
          ],
          "name": "stdout"
        }
      ]
    },
    {
      "cell_type": "code",
      "metadata": {
        "colab": {
          "base_uri": "https://localhost:8080/"
        },
        "id": "IUfLQlSWOI5v",
        "outputId": "bae579f0-79ca-4551-fa55-2547dd9fd7df"
      },
      "source": [
        "# Young Ankle\r\n",
        "ya_inst_acc = np.zeros(len(young_ankle['AccNet'])) \r\n",
        "for i in range(0,len(young_ankle['AccNet'])):\r\n",
        "  if i==0:\r\n",
        "    ya_inst_acc[0] = young_ankle['AccNet'].iloc[0]\r\n",
        "  else:\r\n",
        "    ya_inst_acc[i] = young_ankle['AccNet'].iloc[i] - young_ankle['AccNet'].iloc[i-1]\r\n",
        "\r\n",
        "young_ankle['AccInst'] = ya_inst_acc\r\n",
        "ya_vel = integrate.trapz(young_ankle['AccInst'])\r\n",
        "print(ya_vel)"
      ],
      "execution_count": 54,
      "outputs": [
        {
          "output_type": "stream",
          "text": [
            "0.6486400170195591\n"
          ],
          "name": "stdout"
        }
      ]
    },
    {
      "cell_type": "code",
      "metadata": {
        "colab": {
          "base_uri": "https://localhost:8080/"
        },
        "id": "9TrQvpOJVcXB",
        "outputId": "963965a5-c3e9-4e7e-bc03-39734970a6cc"
      },
      "source": [
        "# Adult Hand\r\n",
        "ah_inst_acc = np.zeros(len(adult_hand['AccNet'])) \r\n",
        "for i in range(0,len(adult_hand['AccNet'])):\r\n",
        "  if i==0:\r\n",
        "    ah_inst_acc[0] = adult_hand['AccNet'].iloc[0]\r\n",
        "  else:\r\n",
        "    ah_inst_acc[i] = adult_hand['AccNet'].iloc[i] - adult_hand['AccNet'].iloc[i-1]\r\n",
        "\r\n",
        "adult_hand['AccInst'] = ah_inst_acc\r\n",
        "ah_vel = integrate.trapz(adult_hand['AccInst'])\r\n",
        "print(ah_vel)"
      ],
      "execution_count": 55,
      "outputs": [
        {
          "output_type": "stream",
          "text": [
            "0.5288330329006492\n"
          ],
          "name": "stdout"
        }
      ]
    },
    {
      "cell_type": "code",
      "metadata": {
        "colab": {
          "base_uri": "https://localhost:8080/"
        },
        "id": "rXaIHDTkWPGY",
        "outputId": "18124127-9a2a-4c30-c057-be037416f9de"
      },
      "source": [
        "# Young Hand\r\n",
        "yh_inst_acc = np.zeros(len(young_hand['AccNet'])) \r\n",
        "for i in range(0,len(young_hand['AccNet'])):\r\n",
        "  if i==0:\r\n",
        "    yh_inst_acc[0] = young_hand['AccNet'].iloc[0]\r\n",
        "  else:\r\n",
        "    yh_inst_acc[i] = young_hand['AccNet'].iloc[i] - young_hand['AccNet'].iloc[i-1]\r\n",
        "\r\n",
        "young_hand['AccInst'] = yh_inst_acc\r\n",
        "yh_vel = integrate.trapz(young_hand['AccInst'])\r\n",
        "print(yh_vel)"
      ],
      "execution_count": 56,
      "outputs": [
        {
          "output_type": "stream",
          "text": [
            "0.3727830620087338\n"
          ],
          "name": "stdout"
        }
      ]
    },
    {
      "cell_type": "code",
      "metadata": {
        "colab": {
          "base_uri": "https://localhost:8080/"
        },
        "id": "EB0RUzgmXSca",
        "outputId": "afede007-e19c-42fd-c1ea-b833f5eafd64"
      },
      "source": [
        "# Adult Pocket\r\n",
        "ap_inst_acc = np.zeros(len(adult_pocket['AccNet'])) \r\n",
        "for i in range(0,len(adult_pocket['AccNet'])):\r\n",
        "  if i==0:\r\n",
        "    ap_inst_acc[0] = adult_pocket['AccNet'].iloc[0]\r\n",
        "  else:\r\n",
        "    ap_inst_acc[i] = adult_pocket['AccNet'].iloc[i] - adult_pocket['AccNet'].iloc[i-1]\r\n",
        "\r\n",
        "adult_pocket['AccInst'] = ap_inst_acc\r\n",
        "ap_vel = integrate.trapz(adult_pocket['AccInst'])\r\n",
        "print(ap_vel)"
      ],
      "execution_count": 57,
      "outputs": [
        {
          "output_type": "stream",
          "text": [
            "0.5135805081302738\n"
          ],
          "name": "stdout"
        }
      ]
    },
    {
      "cell_type": "code",
      "metadata": {
        "colab": {
          "base_uri": "https://localhost:8080/"
        },
        "id": "tgHLa-knX1k3",
        "outputId": "90ff3e76-768f-4ada-e3b7-a4052e566ef3"
      },
      "source": [
        "# Young Pocket\r\n",
        "yp_inst_acc = np.zeros(len(young_pocket['AccNet'])) \r\n",
        "for i in range(0,len(young_pocket['AccNet'])):\r\n",
        "  if i==0:\r\n",
        "    yp_inst_acc[0] = young_pocket['AccNet'].iloc[0]\r\n",
        "  else:\r\n",
        "    yp_inst_acc[i] = young_pocket['AccNet'].iloc[i] - young_pocket['AccNet'].iloc[i-1]\r\n",
        "\r\n",
        "young_pocket['AccInst'] = yp_inst_acc\r\n",
        "yp_vel = integrate.trapz(young_pocket['AccInst'])\r\n",
        "print(yp_vel)"
      ],
      "execution_count": 58,
      "outputs": [
        {
          "output_type": "stream",
          "text": [
            "0.4986541038387076\n"
          ],
          "name": "stdout"
        }
      ]
    },
    {
      "cell_type": "markdown",
      "metadata": {
        "id": "rC1aiBVnyWyu"
      },
      "source": [
        "## **Comparing Computed Velocity Values to Actual Values**"
      ]
    },
    {
      "cell_type": "code",
      "metadata": {
        "id": "xNZOEijwYGpY"
      },
      "source": [
        "result_table = {'Location': ['Ankle', 'Ankle', 'Hand', 'Hand', 'Pocket', 'Pocket'],\r\n",
        "                'Age': ['Adult', 'Young', 'Adult', 'Young', 'Adult', 'Young'],\r\n",
        "                'Distance (m) (from data)': [890, 870, 620,1050, 1460, 950],\r\n",
        "                'Time (s)': [len(adult_ankle), len(young_ankle), len(adult_hand), len(young_hand), len(adult_pocket), len(young_pocket)],\r\n",
        "                'Computed Velocity (m/s)': [aa_vel, ya_vel, ah_vel, yh_vel, ap_vel, yp_vel]}\r\n",
        "df_result = pd.DataFrame(result_table, columns=['Location', 'Age', 'Distance (m) (from data)', 'Time (s)', 'Computed Velocity (m/s)'])"
      ],
      "execution_count": 74,
      "outputs": []
    },
    {
      "cell_type": "code",
      "metadata": {
        "id": "DEFipvqXw5yD"
      },
      "source": [
        "df_result['Actual Velocity (m/s)'] = df_result['Distance (m) (from data)']/df_result['Time (s)']\r\n",
        "df_result['Percent Difference (%)'] = ((df_result['Actual Velocity (m/s)']-df_result['Computed Velocity (m/s)'])/df_result['Actual Velocity (m/s)'])*100"
      ],
      "execution_count": 75,
      "outputs": []
    },
    {
      "cell_type": "code",
      "metadata": {
        "colab": {
          "base_uri": "https://localhost:8080/",
          "height": 235
        },
        "id": "a3W12pt8w6-R",
        "outputId": "3152b9b5-fa0f-4123-8362-1420d41513c8"
      },
      "source": [
        "df_result"
      ],
      "execution_count": 76,
      "outputs": [
        {
          "output_type": "execute_result",
          "data": {
            "text/html": [
              "<div>\n",
              "<style scoped>\n",
              "    .dataframe tbody tr th:only-of-type {\n",
              "        vertical-align: middle;\n",
              "    }\n",
              "\n",
              "    .dataframe tbody tr th {\n",
              "        vertical-align: top;\n",
              "    }\n",
              "\n",
              "    .dataframe thead th {\n",
              "        text-align: right;\n",
              "    }\n",
              "</style>\n",
              "<table border=\"1\" class=\"dataframe\">\n",
              "  <thead>\n",
              "    <tr style=\"text-align: right;\">\n",
              "      <th></th>\n",
              "      <th>Location</th>\n",
              "      <th>Age</th>\n",
              "      <th>Distance (m) (from data)</th>\n",
              "      <th>Time (s)</th>\n",
              "      <th>Computed Velocity (m/s)</th>\n",
              "      <th>Actual Velocity (m/s)</th>\n",
              "      <th>Percent Difference (%)</th>\n",
              "    </tr>\n",
              "  </thead>\n",
              "  <tbody>\n",
              "    <tr>\n",
              "      <th>0</th>\n",
              "      <td>Ankle</td>\n",
              "      <td>Adult</td>\n",
              "      <td>890</td>\n",
              "      <td>793</td>\n",
              "      <td>0.805400</td>\n",
              "      <td>1.122320</td>\n",
              "      <td>28.237920</td>\n",
              "    </tr>\n",
              "    <tr>\n",
              "      <th>1</th>\n",
              "      <td>Ankle</td>\n",
              "      <td>Young</td>\n",
              "      <td>870</td>\n",
              "      <td>781</td>\n",
              "      <td>0.648640</td>\n",
              "      <td>1.113956</td>\n",
              "      <td>41.771511</td>\n",
              "    </tr>\n",
              "    <tr>\n",
              "      <th>2</th>\n",
              "      <td>Hand</td>\n",
              "      <td>Adult</td>\n",
              "      <td>620</td>\n",
              "      <td>538</td>\n",
              "      <td>0.528833</td>\n",
              "      <td>1.152416</td>\n",
              "      <td>54.110940</td>\n",
              "    </tr>\n",
              "    <tr>\n",
              "      <th>3</th>\n",
              "      <td>Hand</td>\n",
              "      <td>Young</td>\n",
              "      <td>1050</td>\n",
              "      <td>851</td>\n",
              "      <td>0.372783</td>\n",
              "      <td>1.233843</td>\n",
              "      <td>69.786820</td>\n",
              "    </tr>\n",
              "    <tr>\n",
              "      <th>4</th>\n",
              "      <td>Pocket</td>\n",
              "      <td>Adult</td>\n",
              "      <td>1460</td>\n",
              "      <td>1341</td>\n",
              "      <td>0.513581</td>\n",
              "      <td>1.088740</td>\n",
              "      <td>52.827982</td>\n",
              "    </tr>\n",
              "    <tr>\n",
              "      <th>5</th>\n",
              "      <td>Pocket</td>\n",
              "      <td>Young</td>\n",
              "      <td>950</td>\n",
              "      <td>928</td>\n",
              "      <td>0.498654</td>\n",
              "      <td>1.023707</td>\n",
              "      <td>51.289368</td>\n",
              "    </tr>\n",
              "  </tbody>\n",
              "</table>\n",
              "</div>"
            ],
            "text/plain": [
              "  Location    Age  ...  Actual Velocity (m/s)  Percent Difference (%)\n",
              "0    Ankle  Adult  ...               1.122320               28.237920\n",
              "1    Ankle  Young  ...               1.113956               41.771511\n",
              "2     Hand  Adult  ...               1.152416               54.110940\n",
              "3     Hand  Young  ...               1.233843               69.786820\n",
              "4   Pocket  Adult  ...               1.088740               52.827982\n",
              "5   Pocket  Young  ...               1.023707               51.289368\n",
              "\n",
              "[6 rows x 7 columns]"
            ]
          },
          "metadata": {
            "tags": []
          },
          "execution_count": 76
        }
      ]
    },
    {
      "cell_type": "markdown",
      "metadata": {
        "id": "d2twfm8EykzI"
      },
      "source": [
        "**Here, we can observe that the percent difference among the various groups.\r\n",
        "It appears to be that the percent difference is least for the readings located at the ankle. Hence, we can say that the device located at Ankle gave better readings in comparison to the device located at Pocket and Hand.**"
      ]
    }
  ]
}