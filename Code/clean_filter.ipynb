{
  "nbformat": 4,
  "nbformat_minor": 0,
  "metadata": {
    "colab": {
      "name": "CleanFilter.ipynb",
      "provenance": []
    },
    "kernelspec": {
      "name": "python3",
      "display_name": "Python 3"
    }
  },
  "cells": [
    {
      "cell_type": "code",
      "metadata": {
        "id": "oboKv6wjU_9u",
        "colab": {
          "base_uri": "https://localhost:8080/"
        },
        "outputId": "d89d5a81-deb4-4ab1-f9d1-637465e965a6"
      },
      "source": [
        "import numpy as np\r\n",
        "import pandas as pd\r\n",
        "import matplotlib.pyplot as plt\r\n",
        "import math\r\n",
        "from scipy import signal\r\n",
        "from scipy import integrate\r\n",
        "from statsmodels.nonparametric.smoothers_lowess import lowess\r\n",
        "from numpy.fft import fft\r\n",
        "import statistics\r\n",
        "from scipy import stats"
      ],
      "execution_count": 4,
      "outputs": [
        {
          "output_type": "stream",
          "text": [
            "/usr/local/lib/python3.6/dist-packages/statsmodels/tools/_testing.py:19: FutureWarning: pandas.util.testing is deprecated. Use the functions in the public API at pandas.testing instead.\n",
            "  import pandas.util.testing as tm\n"
          ],
          "name": "stderr"
        }
      ]
    },
    {
      "cell_type": "markdown",
      "metadata": {
        "id": "pW1KqmtpzxcV"
      },
      "source": [
        "**Reading from CSV files**"
      ]
    },
    {
      "cell_type": "code",
      "metadata": {
        "id": "-3mCwirNIhOT"
      },
      "source": [
        "# Reading all CSV files into DataFrames\r\n",
        "# Ankle\r\n",
        "data = pd.read_csv('Data/RawData/ankle_acc/adult1_1_ankle.csv')\r\n",
        "#data =  pd.read_csv('Data/RawData/ankle_acc/adult1_2_ankle.csv')\r\n",
        "#data =  pd.read_csv('Data/RawData/ankle_acc/adult1_3_ankle.csv')\r\n",
        "#data =  pd.read_csv('Data/RawData/ankle_acc/adult2_1_ankle.csv')\r\n",
        "#data =  pd.read_csv('Data/RawData/ankle_acc/adult2_2_ankle.csv')\r\n",
        "#data =  pd.read_csv('Data/RawData/ankle_acc/adult2_3_ankle.csv')\r\n",
        "\r\n",
        "#data =  pd.read_csv('Data/RawData/ankle_acc/young1_1_ankle.csv')\r\n",
        "#data =  pd.read_csv('Data/RawData/ankle_acc/young1_2_ankle.csv')\r\n",
        "#data =  pd.read_csv('Data/RawData/ankle_acc/young1_3_ankle.csv')\r\n",
        "#data =  pd.read_csv('Data/RawData/ankle_acc/young2_1_ankle.csv')\r\n",
        "#data =  pd.read_csv('Data/RawData/ankle_acc/young2_2_ankle.csv')\r\n",
        "#data =  pd.read_csv('Data/RawData/ankle_acc/young2_3_ankle.csv')\r\n",
        "\r\n",
        "\r\n",
        "# Hand\r\n",
        "#data =  pd.read_csv('Data/RawData/hand_acc/adult1_1_hand.csv')\r\n",
        "#data =  pd.read_csv('Data/RawData/hand_acc/adult1_2_hand.csv')\r\n",
        "#data =  pd.read_csv('Data/RawData/hand_acc/adult2_1_hand.csv')\r\n",
        "#data =  pd.read_csv('Data/RawData/hand_acc/adult2_2_hand.csv')\r\n",
        "\r\n",
        "#data =  pd.read_csv('Data/RawData/hand_acc/young1_1_hand.csv')\r\n",
        "#data =  pd.read_csv('Data/RawData/hand_acc/young1_2_hand.csv')\r\n",
        "#data =  pd.read_csv('Data/RawData/hand_acc/young1_3_hand.csv')\r\n",
        "#data =  pd.read_csv('Data/RawData/hand_acc/young2_1_hand.csv')\r\n",
        "#data =  pd.read_csv('Data/RawData/hand_acc/young2_2_hand.csv')\r\n",
        "#data =  pd.read_csv('Data/RawData/hand_acc/young2_3_hand.csv')\r\n",
        "#data =  pd.read_csv('Data/RawData/hand_acc/young2_4_hand.csv')\r\n",
        "\r\n",
        "\r\n",
        "# Pocket\r\n",
        "#data =  pd.read_csv('Data/RawData/pocket_acc/adult1_1_pocket.csv')\r\n",
        "#data =  pd.read_csv('Data/RawData/pocket_acc/adult1_2_pocket.csv')\r\n",
        "#data =  pd.read_csv('Data/RawData/pocket_acc/adult2_1_pocket.csv')\r\n",
        "#data =  pd.read_csv('Data/RawData/pocket_acc/adult2_2_pocket.csv')\r\n",
        "#data =  pd.read_csv('Data/RawData/pocket_acc/adult2_3_pocket.csv')\r\n",
        "\r\n",
        "#data =  pd.read_csv('Data/RawData/pocket_acc/young1_1_pocket.csv')\r\n",
        "#data =  pd.read_csv('Data/RawData/pocket_acc/young1_2_pocket.csv')\r\n",
        "#data =  pd.read_csv('Data/RawData/pocket_acc/young2_1_pocket.csv')\r\n",
        "#data =  pd.read_csv('Data/RawData/pocket_acc/young2_2_pocket.csv')"
      ],
      "execution_count": 54,
      "outputs": []
    },
    {
      "cell_type": "code",
      "metadata": {
        "colab": {
          "base_uri": "https://localhost:8080/",
          "height": 419
        },
        "id": "Zda7LTaWXHgK",
        "outputId": "de121566-ddbb-4f15-8a90-dd8bdc30ce14"
      },
      "source": [
        "# Editing Timestamp Columns and Dropping the columns not needed\r\n",
        "data['Timestamp'] = data['Timestamp'] - data['Timestamp'].iloc[0]\r\n",
        "del data['DeviceOrientation']\r\n",
        "data"
      ],
      "execution_count": 40,
      "outputs": [
        {
          "output_type": "execute_result",
          "data": {
            "text/html": [
              "<div>\n",
              "<style scoped>\n",
              "    .dataframe tbody tr th:only-of-type {\n",
              "        vertical-align: middle;\n",
              "    }\n",
              "\n",
              "    .dataframe tbody tr th {\n",
              "        vertical-align: top;\n",
              "    }\n",
              "\n",
              "    .dataframe thead th {\n",
              "        text-align: right;\n",
              "    }\n",
              "</style>\n",
              "<table border=\"1\" class=\"dataframe\">\n",
              "  <thead>\n",
              "    <tr style=\"text-align: right;\">\n",
              "      <th></th>\n",
              "      <th>Timestamp</th>\n",
              "      <th>AccelerationX</th>\n",
              "      <th>AccelerationY</th>\n",
              "      <th>AccelerationZ</th>\n",
              "      <th>Label</th>\n",
              "    </tr>\n",
              "  </thead>\n",
              "  <tbody>\n",
              "    <tr>\n",
              "      <th>0</th>\n",
              "      <td>0</td>\n",
              "      <td>-0.038086</td>\n",
              "      <td>-0.390305</td>\n",
              "      <td>-0.939743</td>\n",
              "      <td>ap</td>\n",
              "    </tr>\n",
              "    <tr>\n",
              "      <th>1</th>\n",
              "      <td>0</td>\n",
              "      <td>-0.030426</td>\n",
              "      <td>-0.387146</td>\n",
              "      <td>-0.913345</td>\n",
              "      <td>ap</td>\n",
              "    </tr>\n",
              "    <tr>\n",
              "      <th>2</th>\n",
              "      <td>0</td>\n",
              "      <td>-0.031479</td>\n",
              "      <td>-0.391205</td>\n",
              "      <td>-0.914139</td>\n",
              "      <td>ap</td>\n",
              "    </tr>\n",
              "    <tr>\n",
              "      <th>3</th>\n",
              "      <td>0</td>\n",
              "      <td>-0.032623</td>\n",
              "      <td>-0.393570</td>\n",
              "      <td>-0.896606</td>\n",
              "      <td>ap</td>\n",
              "    </tr>\n",
              "    <tr>\n",
              "      <th>4</th>\n",
              "      <td>0</td>\n",
              "      <td>-0.041962</td>\n",
              "      <td>-0.393555</td>\n",
              "      <td>-0.920746</td>\n",
              "      <td>ap</td>\n",
              "    </tr>\n",
              "    <tr>\n",
              "      <th>...</th>\n",
              "      <td>...</td>\n",
              "      <td>...</td>\n",
              "      <td>...</td>\n",
              "      <td>...</td>\n",
              "      <td>...</td>\n",
              "    </tr>\n",
              "    <tr>\n",
              "      <th>6896</th>\n",
              "      <td>277</td>\n",
              "      <td>-0.022583</td>\n",
              "      <td>-0.385864</td>\n",
              "      <td>-0.940186</td>\n",
              "      <td>ap</td>\n",
              "    </tr>\n",
              "    <tr>\n",
              "      <th>6897</th>\n",
              "      <td>277</td>\n",
              "      <td>-0.022507</td>\n",
              "      <td>-0.384995</td>\n",
              "      <td>-0.940781</td>\n",
              "      <td>ap</td>\n",
              "    </tr>\n",
              "    <tr>\n",
              "      <th>6898</th>\n",
              "      <td>277</td>\n",
              "      <td>-0.023102</td>\n",
              "      <td>-0.396988</td>\n",
              "      <td>-0.902405</td>\n",
              "      <td>ap</td>\n",
              "    </tr>\n",
              "    <tr>\n",
              "      <th>6899</th>\n",
              "      <td>277</td>\n",
              "      <td>-0.014618</td>\n",
              "      <td>-0.401001</td>\n",
              "      <td>-0.873795</td>\n",
              "      <td>ap</td>\n",
              "    </tr>\n",
              "    <tr>\n",
              "      <th>6900</th>\n",
              "      <td>277</td>\n",
              "      <td>-0.059021</td>\n",
              "      <td>-0.398972</td>\n",
              "      <td>-0.924438</td>\n",
              "      <td>ap</td>\n",
              "    </tr>\n",
              "  </tbody>\n",
              "</table>\n",
              "<p>6901 rows × 5 columns</p>\n",
              "</div>"
            ],
            "text/plain": [
              "      Timestamp  AccelerationX  AccelerationY  AccelerationZ Label\n",
              "0             0      -0.038086      -0.390305      -0.939743    ap\n",
              "1             0      -0.030426      -0.387146      -0.913345    ap\n",
              "2             0      -0.031479      -0.391205      -0.914139    ap\n",
              "3             0      -0.032623      -0.393570      -0.896606    ap\n",
              "4             0      -0.041962      -0.393555      -0.920746    ap\n",
              "...         ...            ...            ...            ...   ...\n",
              "6896        277      -0.022583      -0.385864      -0.940186    ap\n",
              "6897        277      -0.022507      -0.384995      -0.940781    ap\n",
              "6898        277      -0.023102      -0.396988      -0.902405    ap\n",
              "6899        277      -0.014618      -0.401001      -0.873795    ap\n",
              "6900        277      -0.059021      -0.398972      -0.924438    ap\n",
              "\n",
              "[6901 rows x 5 columns]"
            ]
          },
          "metadata": {
            "tags": []
          },
          "execution_count": 40
        }
      ]
    },
    {
      "cell_type": "code",
      "metadata": {
        "colab": {
          "base_uri": "https://localhost:8080/",
          "height": 282
        },
        "id": "ZMnP-H7nK4g9",
        "outputId": "7c6f3f78-968d-469c-a731-40a8c21a7a20"
      },
      "source": [
        "# Plotting Timestamp vs Acceleration(X,Y,Z)\r\n",
        "\r\n",
        "plt.plot(data['Timestamp'],data['AccelerationX'])\r\n",
        "#plt.plot(data['Timestamp'],data['AccelerationY'])\r\n",
        "#plt.plot(data['Timestamp'],data['AccelerationZ'])"
      ],
      "execution_count": 41,
      "outputs": [
        {
          "output_type": "execute_result",
          "data": {
            "text/plain": [
              "[<matplotlib.lines.Line2D at 0x7f0d9858c978>]"
            ]
          },
          "metadata": {
            "tags": []
          },
          "execution_count": 41
        },
        {
          "output_type": "display_data",
          "data": {
            "image/png": "[encoded data removed]",
            "text/plain": [
              "<Figure size 432x288 with 1 Axes>"
            ]
          },
          "metadata": {
            "tags": [],
            "needs_background": "light"
          }
        }
      ]
    },
    {
      "cell_type": "markdown",
      "metadata": {
        "id": "v-LftC7m0JvR"
      },
      "source": [
        "## **Noise Filtering using LOESS Filter**"
      ]
    },
    {
      "cell_type": "code",
      "metadata": {
        "colab": {
          "base_uri": "https://localhost:8080/",
          "height": 296
        },
        "id": "dHZfMYZSKboO",
        "outputId": "4060ae80-4d7b-4014-c3f0-8a811de4b753"
      },
      "source": [
        "# Noise Filtering using LOESS Filter\r\n",
        "loess_filt_x = lowess(data['AccelerationX'],data['Timestamp'], frac=0.05)\r\n",
        "loess_filt_y = lowess(data['AccelerationY'],data['Timestamp'], frac=0.05)\r\n",
        "loess_filt_z = lowess(data['AccelerationZ'],data['Timestamp'], frac=0.05)\r\n",
        "\r\n",
        "plt_x, = plt.plot(data['Timestamp'],data['AccelerationX'], label='Raw')\r\n",
        "plt_loess_x, = plt.plot(loess_filt_x[:,0], loess_filt_x[:, 1], 'r-', linewidth=3, label='LOWESS')\r\n",
        "plt.legend(handles=[plt_x, plt_loess_x])\r\n",
        "plt.xlabel('Timestamp')\r\n",
        "plt.ylabel('Acceleration')\r\n",
        "\r\n",
        "#plt.plot(loess_filt_y[:,0], loess_filt_y[:, 1], 'r-', linewidth=3)\r\n",
        "#plt.plot(loess_filt_z[:,0], loess_filt_z[:, 1], 'r-', linewidth=3)"
      ],
      "execution_count": 42,
      "outputs": [
        {
          "output_type": "execute_result",
          "data": {
            "text/plain": [
              "Text(0, 0.5, 'Acceleration')"
            ]
          },
          "metadata": {
            "tags": []
          },
          "execution_count": 42
        },
        {
          "output_type": "display_data",
          "data": {
            "image/png": "[encoded data removed]",
            "text/plain": [
              "<Figure size 432x288 with 1 Axes>"
            ]
          },
          "metadata": {
            "tags": [],
            "needs_background": "light"
          }
        }
      ]
    },
    {
      "cell_type": "markdown",
      "metadata": {
        "id": "4FnRHHyK0P0V"
      },
      "source": [
        "## **Noise Filtering using a low-pass Butter Worth Filter**"
      ]
    },
    {
      "cell_type": "code",
      "metadata": {
        "colab": {
          "base_uri": "https://localhost:8080/",
          "height": 296
        },
        "id": "Dl9a1dqOJGcH",
        "outputId": "b44255bf-cfb9-4a64-ac26-be6c3e0f4556"
      },
      "source": [
        "# Noise Filtering using Butter Worth Filter\r\n",
        "b, a = signal.butter(3,0.1, btype='lowpass', analog=False)\r\n",
        "low_passed_x = signal.filtfilt(b,a, data['AccelerationX'])\r\n",
        "low_passed_y = signal.filtfilt(b,a, data['AccelerationY'])\r\n",
        "low_passed_z = signal.filtfilt(b,a, data['AccelerationZ'])\r\n",
        "\r\n",
        "plt_x, = plt.plot(data['Timestamp'],data['AccelerationX'], label='Raw')\r\n",
        "plt_x_butter, = plt.plot(data['Timestamp'],low_passed_x, label='ButterWorth')\r\n",
        "plt.legend(handles=[plt_x, plt_x_butter])\r\n",
        "plt.xlabel('Timestamp')\r\n",
        "plt.ylabel('Acceleration')\r\n",
        "#plt.plot(data['Timestamp'],low_passed_y)\r\n",
        "#plt.plot(data['Timestamp'],low_passed_z)"
      ],
      "execution_count": 43,
      "outputs": [
        {
          "output_type": "execute_result",
          "data": {
            "text/plain": [
              "Text(0, 0.5, 'Acceleration')"
            ]
          },
          "metadata": {
            "tags": []
          },
          "execution_count": 43
        },
        {
          "output_type": "display_data",
          "data": {
            "image/png": "[encoded data removed]",
            "text/plain": [
              "<Figure size 432x288 with 1 Axes>"
            ]
          },
          "metadata": {
            "tags": [],
            "needs_background": "light"
          }
        }
      ]
    },
    {
      "cell_type": "code",
      "metadata": {
        "colab": {
          "base_uri": "https://localhost:8080/",
          "height": 282
        },
        "id": "PoXPC9ce6ymF",
        "outputId": "f63304e3-4ba6-49bc-b6d8-e1b1006877e7"
      },
      "source": [
        "# Plotting Histogram of Acceleration(X,Y,Z) to visualize data\r\n",
        "\r\n",
        "data['AccelerationX'].hist()\r\n",
        "#data['AccelerationY'].hist()\r\n",
        "#data['AccelerationZ'].hist()"
      ],
      "execution_count": 44,
      "outputs": [
        {
          "output_type": "execute_result",
          "data": {
            "text/plain": [
              "<matplotlib.axes._subplots.AxesSubplot at 0x7f0d9876dbe0>"
            ]
          },
          "metadata": {
            "tags": []
          },
          "execution_count": 44
        },
        {
          "output_type": "display_data",
          "data": {
            "image/png": "[encoded data removed]",
            "text/plain": [
              "<Figure size 432x288 with 1 Axes>"
            ]
          },
          "metadata": {
            "tags": [],
            "needs_background": "light"
          }
        }
      ]
    },
    {
      "cell_type": "markdown",
      "metadata": {
        "id": "xuRxDIzt0XRQ"
      },
      "source": [
        "# **Cleaning Data**\r\n",
        "**Trimming few seconds from start and end of data collection, to account for unnecessary reading.**"
      ]
    },
    {
      "cell_type": "code",
      "metadata": {
        "id": "pfGQKx11OXcG"
      },
      "source": [
        "# Cleaning Data\r\n",
        "# Deleting rows from beginning, end and points of stoppage\r\n",
        "# After carefult analysis, we decided to trim the first and last 5 seconds of the data\r\n",
        "start = 5\r\n",
        "end = 5\r\n",
        "\r\n",
        "# Dropping values from the Filtered Data Array\r\n",
        "low_passed_x = np.delete(low_passed_x, range(len(low_passed_x)-end*25,len(low_passed_x)))\r\n",
        "low_passed_x = np.delete(low_passed_x, range(0,start*25))\r\n",
        "\r\n",
        "low_passed_y = np.delete(low_passed_y, range(len(low_passed_y)-end*25,len(low_passed_y)))\r\n",
        "low_passed_y = np.delete(low_passed_y, range(0,start*25))\r\n",
        "\r\n",
        "low_passed_z = np.delete(low_passed_z, range(len(low_passed_z)-end*25,len(low_passed_z)))\r\n",
        "low_passed_z = np.delete(low_passed_z, range(0,start*25))"
      ],
      "execution_count": 45,
      "outputs": []
    },
    {
      "cell_type": "code",
      "metadata": {
        "id": "dmVaXNv2VfIJ"
      },
      "source": [
        "# Dropping rows from the DataFrame and resetting index\r\n",
        "data = data.drop(data.index[len(data)-end*25:])\r\n",
        "data = data.drop(data.index[:start*25])\r\n",
        "\r\n",
        "data = data.reset_index(drop='True')"
      ],
      "execution_count": 46,
      "outputs": []
    },
    {
      "cell_type": "code",
      "metadata": {
        "colab": {
          "base_uri": "https://localhost:8080/",
          "height": 282
        },
        "id": "cvCQ9Ov_VYO6",
        "outputId": "1db06243-d839-4a57-af7a-8cd4de14ad50"
      },
      "source": [
        "# Plotting Timestamp vs ButterWorth Filtered Data\r\n",
        "plt.plot(data['Timestamp'],low_passed_x)\r\n",
        "#plt.plot(data['Timestamp'],low_passed_y)\r\n",
        "#plt.plot(data['Timestamp'],low_passed_z)"
      ],
      "execution_count": 47,
      "outputs": [
        {
          "output_type": "execute_result",
          "data": {
            "text/plain": [
              "[<matplotlib.lines.Line2D at 0x7f0d98a724a8>]"
            ]
          },
          "metadata": {
            "tags": []
          },
          "execution_count": 47
        },
        {
          "output_type": "display_data",
          "data": {
            "image/png": "[encoded data removed]",
            "text/plain": [
              "<Figure size 432x288 with 1 Axes>"
            ]
          },
          "metadata": {
            "tags": [],
            "needs_background": "light"
          }
        }
      ]
    },
    {
      "cell_type": "code",
      "metadata": {
        "colab": {
          "base_uri": "https://localhost:8080/"
        },
        "id": "pM_c_ctVTN85",
        "outputId": "2d589e6c-dd99-42d1-803f-c3132d4e69e9"
      },
      "source": [
        "# Determining the interval of the walk\r\n",
        "interval = data['Timestamp'].max() - data['Timestamp'].min()\r\n",
        "interval"
      ],
      "execution_count": 48,
      "outputs": [
        {
          "output_type": "execute_result",
          "data": {
            "text/plain": [
              "268"
            ]
          },
          "metadata": {
            "tags": []
          },
          "execution_count": 48
        }
      ]
    },
    {
      "cell_type": "code",
      "metadata": {
        "colab": {
          "base_uri": "https://localhost:8080/",
          "height": 419
        },
        "id": "YSxUpbtzb_Pl",
        "outputId": "58cf20aa-27fa-44f7-81a0-9286c8454eaf"
      },
      "source": [
        "# Passing the Filtered values to the DataFrame and deleting unwanted columns\r\n",
        "\r\n",
        "data['AccCleanX'] = low_passed_x\r\n",
        "data['AccCleanY'] = low_passed_y\r\n",
        "data['AccCleanZ'] = low_passed_z\r\n",
        "\r\n",
        "del data['AccelerationX']\r\n",
        "del data['AccelerationY']\r\n",
        "del data['AccelerationZ']\r\n",
        "\r\n",
        "# Editing Timestamp, due to inconsistency caused by Cleaning Data\r\n",
        "data['Timestamp'] = data['Timestamp'] - data['Timestamp'].min()\r\n",
        "\r\n",
        "data"
      ],
      "execution_count": 49,
      "outputs": [
        {
          "output_type": "execute_result",
          "data": {
            "text/html": [
              "<div>\n",
              "<style scoped>\n",
              "    .dataframe tbody tr th:only-of-type {\n",
              "        vertical-align: middle;\n",
              "    }\n",
              "\n",
              "    .dataframe tbody tr th {\n",
              "        vertical-align: top;\n",
              "    }\n",
              "\n",
              "    .dataframe thead th {\n",
              "        text-align: right;\n",
              "    }\n",
              "</style>\n",
              "<table border=\"1\" class=\"dataframe\">\n",
              "  <thead>\n",
              "    <tr style=\"text-align: right;\">\n",
              "      <th></th>\n",
              "      <th>Timestamp</th>\n",
              "      <th>Label</th>\n",
              "      <th>AccCleanX</th>\n",
              "      <th>AccCleanY</th>\n",
              "      <th>AccCleanZ</th>\n",
              "    </tr>\n",
              "  </thead>\n",
              "  <tbody>\n",
              "    <tr>\n",
              "      <th>0</th>\n",
              "      <td>0</td>\n",
              "      <td>ap</td>\n",
              "      <td>0.033359</td>\n",
              "      <td>-0.345001</td>\n",
              "      <td>-0.940412</td>\n",
              "    </tr>\n",
              "    <tr>\n",
              "      <th>1</th>\n",
              "      <td>0</td>\n",
              "      <td>ap</td>\n",
              "      <td>0.020237</td>\n",
              "      <td>-0.333048</td>\n",
              "      <td>-0.947719</td>\n",
              "    </tr>\n",
              "    <tr>\n",
              "      <th>2</th>\n",
              "      <td>0</td>\n",
              "      <td>ap</td>\n",
              "      <td>0.010644</td>\n",
              "      <td>-0.325261</td>\n",
              "      <td>-0.952129</td>\n",
              "    </tr>\n",
              "    <tr>\n",
              "      <th>3</th>\n",
              "      <td>0</td>\n",
              "      <td>ap</td>\n",
              "      <td>0.004309</td>\n",
              "      <td>-0.321156</td>\n",
              "      <td>-0.954064</td>\n",
              "    </tr>\n",
              "    <tr>\n",
              "      <th>4</th>\n",
              "      <td>0</td>\n",
              "      <td>ap</td>\n",
              "      <td>0.000789</td>\n",
              "      <td>-0.320082</td>\n",
              "      <td>-0.954029</td>\n",
              "    </tr>\n",
              "    <tr>\n",
              "      <th>...</th>\n",
              "      <td>...</td>\n",
              "      <td>...</td>\n",
              "      <td>...</td>\n",
              "      <td>...</td>\n",
              "      <td>...</td>\n",
              "    </tr>\n",
              "    <tr>\n",
              "      <th>6646</th>\n",
              "      <td>268</td>\n",
              "      <td>ap</td>\n",
              "      <td>0.278535</td>\n",
              "      <td>0.943819</td>\n",
              "      <td>0.256712</td>\n",
              "    </tr>\n",
              "    <tr>\n",
              "      <th>6647</th>\n",
              "      <td>268</td>\n",
              "      <td>ap</td>\n",
              "      <td>0.278701</td>\n",
              "      <td>0.949083</td>\n",
              "      <td>0.222963</td>\n",
              "    </tr>\n",
              "    <tr>\n",
              "      <th>6648</th>\n",
              "      <td>268</td>\n",
              "      <td>ap</td>\n",
              "      <td>0.273800</td>\n",
              "      <td>0.951163</td>\n",
              "      <td>0.189439</td>\n",
              "    </tr>\n",
              "    <tr>\n",
              "      <th>6649</th>\n",
              "      <td>268</td>\n",
              "      <td>ap</td>\n",
              "      <td>0.263915</td>\n",
              "      <td>0.950897</td>\n",
              "      <td>0.158704</td>\n",
              "    </tr>\n",
              "    <tr>\n",
              "      <th>6650</th>\n",
              "      <td>268</td>\n",
              "      <td>ap</td>\n",
              "      <td>0.249756</td>\n",
              "      <td>0.949517</td>\n",
              "      <td>0.132449</td>\n",
              "    </tr>\n",
              "  </tbody>\n",
              "</table>\n",
              "<p>6651 rows × 5 columns</p>\n",
              "</div>"
            ],
            "text/plain": [
              "      Timestamp Label  AccCleanX  AccCleanY  AccCleanZ\n",
              "0             0    ap   0.033359  -0.345001  -0.940412\n",
              "1             0    ap   0.020237  -0.333048  -0.947719\n",
              "2             0    ap   0.010644  -0.325261  -0.952129\n",
              "3             0    ap   0.004309  -0.321156  -0.954064\n",
              "4             0    ap   0.000789  -0.320082  -0.954029\n",
              "...         ...   ...        ...        ...        ...\n",
              "6646        268    ap   0.278535   0.943819   0.256712\n",
              "6647        268    ap   0.278701   0.949083   0.222963\n",
              "6648        268    ap   0.273800   0.951163   0.189439\n",
              "6649        268    ap   0.263915   0.950897   0.158704\n",
              "6650        268    ap   0.249756   0.949517   0.132449\n",
              "\n",
              "[6651 rows x 5 columns]"
            ]
          },
          "metadata": {
            "tags": []
          },
          "execution_count": 49
        }
      ]
    },
    {
      "cell_type": "code",
      "metadata": {
        "colab": {
          "base_uri": "https://localhost:8080/",
          "height": 419
        },
        "id": "9xDpK5GZfMKU",
        "outputId": "c0e2049a-6b96-4595-eadc-633331b08e39"
      },
      "source": [
        "# Re-arranging the columns\r\n",
        "columns = ['Label','Timestamp','AccCleanX', 'AccCleanY', 'AccCleanZ']\r\n",
        "data = data[columns]\r\n",
        "data"
      ],
      "execution_count": 50,
      "outputs": [
        {
          "output_type": "execute_result",
          "data": {
            "text/html": [
              "<div>\n",
              "<style scoped>\n",
              "    .dataframe tbody tr th:only-of-type {\n",
              "        vertical-align: middle;\n",
              "    }\n",
              "\n",
              "    .dataframe tbody tr th {\n",
              "        vertical-align: top;\n",
              "    }\n",
              "\n",
              "    .dataframe thead th {\n",
              "        text-align: right;\n",
              "    }\n",
              "</style>\n",
              "<table border=\"1\" class=\"dataframe\">\n",
              "  <thead>\n",
              "    <tr style=\"text-align: right;\">\n",
              "      <th></th>\n",
              "      <th>Label</th>\n",
              "      <th>Timestamp</th>\n",
              "      <th>AccCleanX</th>\n",
              "      <th>AccCleanY</th>\n",
              "      <th>AccCleanZ</th>\n",
              "    </tr>\n",
              "  </thead>\n",
              "  <tbody>\n",
              "    <tr>\n",
              "      <th>0</th>\n",
              "      <td>ap</td>\n",
              "      <td>0</td>\n",
              "      <td>0.033359</td>\n",
              "      <td>-0.345001</td>\n",
              "      <td>-0.940412</td>\n",
              "    </tr>\n",
              "    <tr>\n",
              "      <th>1</th>\n",
              "      <td>ap</td>\n",
              "      <td>0</td>\n",
              "      <td>0.020237</td>\n",
              "      <td>-0.333048</td>\n",
              "      <td>-0.947719</td>\n",
              "    </tr>\n",
              "    <tr>\n",
              "      <th>2</th>\n",
              "      <td>ap</td>\n",
              "      <td>0</td>\n",
              "      <td>0.010644</td>\n",
              "      <td>-0.325261</td>\n",
              "      <td>-0.952129</td>\n",
              "    </tr>\n",
              "    <tr>\n",
              "      <th>3</th>\n",
              "      <td>ap</td>\n",
              "      <td>0</td>\n",
              "      <td>0.004309</td>\n",
              "      <td>-0.321156</td>\n",
              "      <td>-0.954064</td>\n",
              "    </tr>\n",
              "    <tr>\n",
              "      <th>4</th>\n",
              "      <td>ap</td>\n",
              "      <td>0</td>\n",
              "      <td>0.000789</td>\n",
              "      <td>-0.320082</td>\n",
              "      <td>-0.954029</td>\n",
              "    </tr>\n",
              "    <tr>\n",
              "      <th>...</th>\n",
              "      <td>...</td>\n",
              "      <td>...</td>\n",
              "      <td>...</td>\n",
              "      <td>...</td>\n",
              "      <td>...</td>\n",
              "    </tr>\n",
              "    <tr>\n",
              "      <th>6646</th>\n",
              "      <td>ap</td>\n",
              "      <td>268</td>\n",
              "      <td>0.278535</td>\n",
              "      <td>0.943819</td>\n",
              "      <td>0.256712</td>\n",
              "    </tr>\n",
              "    <tr>\n",
              "      <th>6647</th>\n",
              "      <td>ap</td>\n",
              "      <td>268</td>\n",
              "      <td>0.278701</td>\n",
              "      <td>0.949083</td>\n",
              "      <td>0.222963</td>\n",
              "    </tr>\n",
              "    <tr>\n",
              "      <th>6648</th>\n",
              "      <td>ap</td>\n",
              "      <td>268</td>\n",
              "      <td>0.273800</td>\n",
              "      <td>0.951163</td>\n",
              "      <td>0.189439</td>\n",
              "    </tr>\n",
              "    <tr>\n",
              "      <th>6649</th>\n",
              "      <td>ap</td>\n",
              "      <td>268</td>\n",
              "      <td>0.263915</td>\n",
              "      <td>0.950897</td>\n",
              "      <td>0.158704</td>\n",
              "    </tr>\n",
              "    <tr>\n",
              "      <th>6650</th>\n",
              "      <td>ap</td>\n",
              "      <td>268</td>\n",
              "      <td>0.249756</td>\n",
              "      <td>0.949517</td>\n",
              "      <td>0.132449</td>\n",
              "    </tr>\n",
              "  </tbody>\n",
              "</table>\n",
              "<p>6651 rows × 5 columns</p>\n",
              "</div>"
            ],
            "text/plain": [
              "     Label  Timestamp  AccCleanX  AccCleanY  AccCleanZ\n",
              "0       ap          0   0.033359  -0.345001  -0.940412\n",
              "1       ap          0   0.020237  -0.333048  -0.947719\n",
              "2       ap          0   0.010644  -0.325261  -0.952129\n",
              "3       ap          0   0.004309  -0.321156  -0.954064\n",
              "4       ap          0   0.000789  -0.320082  -0.954029\n",
              "...    ...        ...        ...        ...        ...\n",
              "6646    ap        268   0.278535   0.943819   0.256712\n",
              "6647    ap        268   0.278701   0.949083   0.222963\n",
              "6648    ap        268   0.273800   0.951163   0.189439\n",
              "6649    ap        268   0.263915   0.950897   0.158704\n",
              "6650    ap        268   0.249756   0.949517   0.132449\n",
              "\n",
              "[6651 rows x 5 columns]"
            ]
          },
          "metadata": {
            "tags": []
          },
          "execution_count": 50
        }
      ]
    },
    {
      "cell_type": "markdown",
      "metadata": {
        "id": "VqmzFxpi0vyP"
      },
      "source": [
        "## **Calculating Net Acceleration**"
      ]
    },
    {
      "cell_type": "code",
      "metadata": {
        "colab": {
          "base_uri": "https://localhost:8080/",
          "height": 517
        },
        "id": "DF6gm7CvowrF",
        "outputId": "52cd355a-b229-4be7-a8d1-b16df69f8aa8"
      },
      "source": [
        "# Calculating Net Acceleration\r\n",
        "data['AccSum'] = data['AccCleanX'].pow(2) + data['AccCleanY'].pow(2) + data['AccCleanZ'].pow(2)\r\n",
        "data['AccNet'] = data['AccSum'].pow(0.5)\r\n",
        "del data['AccSum']\r\n",
        "\r\n",
        "# Plotting Time vs Net Acceleration\r\n",
        "plt.plot(data['Timestamp'],data['AccNet'])\r\n",
        "plt.xlabel('Timestamp')\r\n",
        "plt.ylabel('Net Acceleration')\r\n",
        "plt.show()\r\n",
        "print(data['AccNet'].mean())\r\n",
        "print(interval)"
      ],
      "execution_count": 51,
      "outputs": [
        {
          "output_type": "stream",
          "text": [
            "/usr/local/lib/python3.6/dist-packages/ipykernel_launcher.py:2: SettingWithCopyWarning: \n",
            "A value is trying to be set on a copy of a slice from a DataFrame.\n",
            "Try using .loc[row_indexer,col_indexer] = value instead\n",
            "\n",
            "See the caveats in the documentation: https://pandas.pydata.org/pandas-docs/stable/user_guide/indexing.html#returning-a-view-versus-a-copy\n",
            "  \n",
            "/usr/local/lib/python3.6/dist-packages/ipykernel_launcher.py:3: SettingWithCopyWarning: \n",
            "A value is trying to be set on a copy of a slice from a DataFrame.\n",
            "Try using .loc[row_indexer,col_indexer] = value instead\n",
            "\n",
            "See the caveats in the documentation: https://pandas.pydata.org/pandas-docs/stable/user_guide/indexing.html#returning-a-view-versus-a-copy\n",
            "  This is separate from the ipykernel package so we can avoid doing imports until\n"
          ],
          "name": "stderr"
        },
        {
          "output_type": "display_data",
          "data": {
            "image/png": "[encoded data removed]",
            "text/plain": [
              "<Figure size 432x288 with 1 Axes>"
            ]
          },
          "metadata": {
            "tags": [],
            "needs_background": "light"
          }
        },
        {
          "output_type": "stream",
          "text": [
            "1.0091665619917103\n",
            "268\n"
          ],
          "name": "stdout"
        }
      ]
    },
    {
      "cell_type": "markdown",
      "metadata": {
        "id": "clPL7Zu90z1r"
      },
      "source": [
        "## **Fourier Transformation**"
      ]
    },
    {
      "cell_type": "code",
      "metadata": {
        "colab": {
          "base_uri": "https://localhost:8080/",
          "height": 333
        },
        "id": "XjiXLx89ZQlH",
        "outputId": "c7a5c9ee-eb78-4fbc-c355-f855ebc85685"
      },
      "source": [
        "# Fourier Transformation\r\n",
        "data_fft = fft(data['AccNet'])\r\n",
        "plt_fft, = plt.plot(data['Timestamp'],data_fft, label=\"Fourier Trans\")\r\n",
        "plt_raw, = plt.plot(data['Timestamp'],data['AccNet'], label=\"Raw\")\r\n",
        "plt.legend(handles=[plt_fft, plt_raw])\r\n",
        "plt.xlabel('Timestamp')\r\n",
        "plt.ylabel('Fourier Transformed Data')\r\n",
        "# But it did not work out as expected, so we decided not to use it"
      ],
      "execution_count": 52,
      "outputs": [
        {
          "output_type": "stream",
          "text": [
            "/usr/local/lib/python3.6/dist-packages/numpy/core/_asarray.py:85: ComplexWarning: Casting complex values to real discards the imaginary part\n",
            "  return array(a, dtype, copy=False, order=order)\n"
          ],
          "name": "stderr"
        },
        {
          "output_type": "execute_result",
          "data": {
            "text/plain": [
              "Text(0, 0.5, 'Fourier Transformed Data')"
            ]
          },
          "metadata": {
            "tags": []
          },
          "execution_count": 52
        },
        {
          "output_type": "display_data",
          "data": {
            "image/png": "[encoded data removed]",
            "text/plain": [
              "<Figure size 432x288 with 1 Axes>"
            ]
          },
          "metadata": {
            "tags": [],
            "needs_background": "light"
          }
        }
      ]
    },
    {
      "cell_type": "code",
      "metadata": {
        "colab": {
          "base_uri": "https://localhost:8080/",
          "height": 419
        },
        "id": "bbFtidRFWO0l",
        "outputId": "c4c501e6-b7ba-4ca1-997e-0883054e16a2"
      },
      "source": [
        "# Grouping Data by Timestamp, to make data CONCISE, so that we have one value of acceleration per second of the interval\r\n",
        "# We averaged the values in that particular timestamp\r\n",
        "data = data.groupby(data['Timestamp'], as_index=False).mean()\r\n",
        "data['Label'] = 'aa'\r\n",
        "#data['Label'] = 'ya'\r\n",
        "#data['Label'] = 'ah'\r\n",
        "#data['Label'] = 'yh'\r\n",
        "#data['Label'] = 'ap'\r\n",
        "#data['Label'] = 'yp'\r\n",
        "data"
      ],
      "execution_count": 53,
      "outputs": [
        {
          "output_type": "execute_result",
          "data": {
            "text/html": [
              "<div>\n",
              "<style scoped>\n",
              "    .dataframe tbody tr th:only-of-type {\n",
              "        vertical-align: middle;\n",
              "    }\n",
              "\n",
              "    .dataframe tbody tr th {\n",
              "        vertical-align: top;\n",
              "    }\n",
              "\n",
              "    .dataframe thead th {\n",
              "        text-align: right;\n",
              "    }\n",
              "</style>\n",
              "<table border=\"1\" class=\"dataframe\">\n",
              "  <thead>\n",
              "    <tr style=\"text-align: right;\">\n",
              "      <th></th>\n",
              "      <th>Timestamp</th>\n",
              "      <th>AccCleanX</th>\n",
              "      <th>AccCleanY</th>\n",
              "      <th>AccCleanZ</th>\n",
              "      <th>AccNet</th>\n",
              "      <th>Label</th>\n",
              "    </tr>\n",
              "  </thead>\n",
              "  <tbody>\n",
              "    <tr>\n",
              "      <th>0</th>\n",
              "      <td>0</td>\n",
              "      <td>0.008650</td>\n",
              "      <td>-0.330525</td>\n",
              "      <td>-0.946815</td>\n",
              "      <td>1.002975</td>\n",
              "      <td>ah</td>\n",
              "    </tr>\n",
              "    <tr>\n",
              "      <th>1</th>\n",
              "      <td>1</td>\n",
              "      <td>-0.001586</td>\n",
              "      <td>-0.356907</td>\n",
              "      <td>-0.933487</td>\n",
              "      <td>0.999600</td>\n",
              "      <td>ah</td>\n",
              "    </tr>\n",
              "    <tr>\n",
              "      <th>2</th>\n",
              "      <td>2</td>\n",
              "      <td>-0.033715</td>\n",
              "      <td>-0.165746</td>\n",
              "      <td>-0.877262</td>\n",
              "      <td>0.921064</td>\n",
              "      <td>ah</td>\n",
              "    </tr>\n",
              "    <tr>\n",
              "      <th>3</th>\n",
              "      <td>3</td>\n",
              "      <td>-0.584786</td>\n",
              "      <td>0.844391</td>\n",
              "      <td>-0.324035</td>\n",
              "      <td>1.090866</td>\n",
              "      <td>ah</td>\n",
              "    </tr>\n",
              "    <tr>\n",
              "      <th>4</th>\n",
              "      <td>4</td>\n",
              "      <td>-0.404054</td>\n",
              "      <td>0.724294</td>\n",
              "      <td>0.010543</td>\n",
              "      <td>0.946154</td>\n",
              "      <td>ah</td>\n",
              "    </tr>\n",
              "    <tr>\n",
              "      <th>...</th>\n",
              "      <td>...</td>\n",
              "      <td>...</td>\n",
              "      <td>...</td>\n",
              "      <td>...</td>\n",
              "      <td>...</td>\n",
              "      <td>...</td>\n",
              "    </tr>\n",
              "    <tr>\n",
              "      <th>264</th>\n",
              "      <td>264</td>\n",
              "      <td>0.185264</td>\n",
              "      <td>0.972176</td>\n",
              "      <td>0.155082</td>\n",
              "      <td>1.009547</td>\n",
              "      <td>ah</td>\n",
              "    </tr>\n",
              "    <tr>\n",
              "      <th>265</th>\n",
              "      <td>265</td>\n",
              "      <td>0.199739</td>\n",
              "      <td>0.943189</td>\n",
              "      <td>0.189603</td>\n",
              "      <td>0.989263</td>\n",
              "      <td>ah</td>\n",
              "    </tr>\n",
              "    <tr>\n",
              "      <th>266</th>\n",
              "      <td>266</td>\n",
              "      <td>0.179980</td>\n",
              "      <td>0.975797</td>\n",
              "      <td>0.171047</td>\n",
              "      <td>1.016729</td>\n",
              "      <td>ah</td>\n",
              "    </tr>\n",
              "    <tr>\n",
              "      <th>267</th>\n",
              "      <td>267</td>\n",
              "      <td>0.170637</td>\n",
              "      <td>0.984023</td>\n",
              "      <td>0.118856</td>\n",
              "      <td>1.011389</td>\n",
              "      <td>ah</td>\n",
              "    </tr>\n",
              "    <tr>\n",
              "      <th>268</th>\n",
              "      <td>268</td>\n",
              "      <td>0.264941</td>\n",
              "      <td>0.934338</td>\n",
              "      <td>0.246568</td>\n",
              "      <td>1.004645</td>\n",
              "      <td>ah</td>\n",
              "    </tr>\n",
              "  </tbody>\n",
              "</table>\n",
              "<p>269 rows × 6 columns</p>\n",
              "</div>"
            ],
            "text/plain": [
              "     Timestamp  AccCleanX  AccCleanY  AccCleanZ    AccNet Label\n",
              "0            0   0.008650  -0.330525  -0.946815  1.002975    ah\n",
              "1            1  -0.001586  -0.356907  -0.933487  0.999600    ah\n",
              "2            2  -0.033715  -0.165746  -0.877262  0.921064    ah\n",
              "3            3  -0.584786   0.844391  -0.324035  1.090866    ah\n",
              "4            4  -0.404054   0.724294   0.010543  0.946154    ah\n",
              "..         ...        ...        ...        ...       ...   ...\n",
              "264        264   0.185264   0.972176   0.155082  1.009547    ah\n",
              "265        265   0.199739   0.943189   0.189603  0.989263    ah\n",
              "266        266   0.179980   0.975797   0.171047  1.016729    ah\n",
              "267        267   0.170637   0.984023   0.118856  1.011389    ah\n",
              "268        268   0.264941   0.934338   0.246568  1.004645    ah\n",
              "\n",
              "[269 rows x 6 columns]"
            ]
          },
          "metadata": {
            "tags": []
          },
          "execution_count": 53
        }
      ]
    },
    {
      "cell_type": "markdown",
      "metadata": {
        "id": "8GG8a7M5045Z"
      },
      "source": [
        "Writing to CSV Files"
      ]
    },
    {
      "cell_type": "code",
      "metadata": {
        "id": "C6hqKetRY8L9"
      },
      "source": [
        "# Writing Cleaned Data to CSV Files\r\n",
        "\r\n",
        "# Ankle: Adult\r\n",
        "data.to_csv('Data/CleanData/ankle_clean/adult1_1_ankle_c.csv', index=False)\r\n",
        "#data.to_csv('Data/CleanData/ankle_clean/adult1_2_ankle_c.csv', index=False)\r\n",
        "#data.to_csv('Data/CleanData/ankle_clean/adult1_3_ankle_c.csv', index=False)\r\n",
        "#data.to_csv('Data/CleanData/ankle_clean/adult2_1_ankle_c.csv', index=False)\r\n",
        "#data.to_csv('Data/CleanData/ankle_clean/adult2_2_ankle_c.csv', index=False)\r\n",
        "#data.to_csv('Data/CleanData/ankle_clean/adult2_3_ankle_c.csv', index=False)\r\n",
        "\r\n",
        "# Ankle: Young\r\n",
        "#data.to_csv('Data/CleanData/ankle_clean/young1_1_ankle_c.csv', index=False)\r\n",
        "#data.to_csv('Data/CleanData/ankle_clean/young1_2_ankle_c.csv', index=False)\r\n",
        "#data.to_csv('Data/CleanData/ankle_clean/young1_3_ankle_c.csv', index=False)\r\n",
        "#data.to_csv('Data/CleanData/ankle_clean/young2_1_ankle_c.csv', index=False)\r\n",
        "#data.to_csv('Data/CleanData/ankle_clean/young2_2_ankle_c.csv', index=False)\r\n",
        "#data.to_csv('Data/CleanData/ankle_clean/young2_3_ankle_c.csv', index=False)\r\n",
        "\r\n",
        "\r\n",
        "# Hand: Adult\r\n",
        "#data.to_csv('Data/CleanData/hand_clean/adult1_1_hand_c.csv', index=False)\r\n",
        "#data.to_csv('Data/CleanData/hand_clean/adult1_2_hand_c.csv', index=False)\r\n",
        "#data.to_csv('Data/CleanData/hand_clean/adult2_1_hand_c.csv', index=False)\r\n",
        "#data.to_csv('Data/CleanData/hand_clean/adult2_2_hand_c.csv', index=False)\r\n",
        "\r\n",
        "# Hand: Young\r\n",
        "#data.to_csv('Data/CleanData/hand_clean/young1_1_hand_c.csv', index=False)\r\n",
        "#data.to_csv('Data/CleanData/hand_clean/young1_2_hand_c.csv', index=False)\r\n",
        "#data.to_csv('Data/CleanData/hand_clean/young1_3_hand_c.csv', index=False)\r\n",
        "#data.to_csv('Data/CleanData/hand_clean/young2_1_hand_c.csv', index=False)\r\n",
        "#data.to_csv('Data/CleanData/hand_clean/young2_2_hand_c.csv', index=False)\r\n",
        "#data.to_csv('Data/CleanData/hand_clean/young2_3_hand_c.csv', index=False)\r\n",
        "#data.to_csv('Data/CleanData/hand_clean/young2_4_hand_c.csv', index=False)\r\n",
        "\r\n",
        "\r\n",
        "# Pocket: Adult\r\n",
        "#data.to_csv('Data/CleanData/pocket_clean/adult1_1_pocket_c.csv', index=False)\r\n",
        "#data.to_csv('Data/CleanData/pocket_clean/adult1_2_pocket_c.csv', index=False)\r\n",
        "#data.to_csv('Data/CleanData/pocket_clean/adult2_1_pocket_c.csv', index=False)\r\n",
        "#data.to_csv('Data/CleanData/pocket_clean/adult2_2_pocket_c.csv', index=False)\r\n",
        "#data.to_csv('Data/CleanData/pocket_clean/adult2_3_pocket_c.csv', index=False)\r\n",
        "\r\n",
        "# Pocket: Young\r\n",
        "#data.to_csv('Data/CleanData/pocket_clean/young1_1_pocket_c.csv', index=False)\r\n",
        "#data.to_csv('Data/CleanData/pocket_clean/young1_2_pocket_c.csv', index=False)\r\n",
        "#data.to_csv('Data/CleanData/pocket_clean/young2_1_pocket_c.csv', index=False)\r\n",
        "#data.to_csv('Data/CleanData/pocket_clean/young2_2_pocket_c.csv', index=False)"
      ],
      "execution_count": 23,
      "outputs": []
    },
    {
      "cell_type": "code",
      "metadata": {
        "id": "76G8wNvW3FO-"
      },
      "source": [
        ""
      ],
      "execution_count": null,
      "outputs": []
    }
  ]
}