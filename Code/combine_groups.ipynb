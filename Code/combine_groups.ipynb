{
  "nbformat": 4,
  "nbformat_minor": 0,
  "metadata": {
    "colab": {
      "name": "CombineDataGroups.ipynb",
      "provenance": []
    },
    "kernelspec": {
      "name": "python3",
      "display_name": "Python 3"
    }
  },
  "cells": [
    {
      "cell_type": "code",
      "metadata": {
        "colab": {
          "base_uri": "https://localhost:8080/"
        },
        "id": "8JktQdR57j8L",
        "outputId": "4da64c56-1eec-4db2-db42-909b47892a7f"
      },
      "source": [
        "import numpy as np\r\n",
        "import pandas as pd"
      ],
      "execution_count": 2,
      "outputs": [
        {
          "output_type": "stream",
          "text": [
            "/usr/local/lib/python3.6/dist-packages/statsmodels/tools/_testing.py:19: FutureWarning: pandas.util.testing is deprecated. Use the functions in the public API at pandas.testing instead.\n",
            "  import pandas.util.testing as tm\n"
          ],
          "name": "stderr"
        }
      ]
    },
    {
      "cell_type": "markdown",
      "metadata": {
        "id": "d-V0XrSDqClr"
      },
      "source": [
        "**Reading from CSV Files**"
      ]
    },
    {
      "cell_type": "code",
      "metadata": {
        "id": "eXB0PFpt7rRY"
      },
      "source": [
        "# Reading all CSV files into DataFrames\r\n",
        "\r\n",
        "# Ankle: Adult \r\n",
        "adult1_1_ankle =  pd.read_csv('Data/CleanData/ankle_clean/adult1_1_ankle_c.csv')\r\n",
        "adult1_2_ankle =  pd.read_csv('Data/CleanData/ankle_clean/adult1_2_ankle_c.csv')\r\n",
        "adult1_3_ankle =  pd.read_csv('Data/CleanData/ankle_clean/adult1_3_ankle_c.csv')\r\n",
        "adult2_1_ankle =  pd.read_csv('Data/CleanData/ankle_clean/adult2_1_ankle_c.csv')\r\n",
        "adult2_2_ankle =  pd.read_csv('Data/CleanData/ankle_clean/adult2_2_ankle_c.csv')\r\n",
        "adult2_2_ankle =  pd.read_csv('Data/CleanData/ankle_clean/adult2_3_ankle_c.csv')\r\n",
        "\r\n",
        "# Ankle: Young\r\n",
        "young1_1_ankle =  pd.read_csv('Data/CleanData/ankle_clean/young1_1_ankle_c.csv')\r\n",
        "young1_2_ankle =  pd.read_csv('Data/CleanData/ankle_clean/young1_2_ankle_c.csv')\r\n",
        "young1_3_ankle =  pd.read_csv('Data/CleanData/ankle_clean/young1_3_ankle_c.csv')\r\n",
        "young2_1_ankle =  pd.read_csv('Data/CleanData/ankle_clean/young2_1_ankle_c.csv')\r\n",
        "young2_2_ankle =  pd.read_csv('Data/CleanData/ankle_clean/young2_2_ankle_c.csv')\r\n",
        "young2_3_ankle =  pd.read_csv('Data/CleanData/ankle_clean/young2_3_ankle_c.csv')\r\n",
        "\r\n",
        "\r\n",
        "# Hand: Adult\r\n",
        "adult1_1_hand =  pd.read_csv('Data/CleanData/hand_clean/adult1_1_hand_c.csv')\r\n",
        "adult1_2_hand =  pd.read_csv('Data/CleanData/hand_clean/adult1_2_hand_c.csv')\r\n",
        "adult2_1_hand =  pd.read_csv('Data/CleanData/hand_clean/adult2_1_hand_c.csv')\r\n",
        "adult2_2_hand =  pd.read_csv('Data/CleanData/hand_clean/adult2_2_hand_c.csv')\r\n",
        "\r\n",
        "# Hand: Young\r\n",
        "young1_1_hand =  pd.read_csv('Data/CleanData/hand_clean/young1_1_hand_c.csv')\r\n",
        "young1_2_hand =  pd.read_csv('Data/CleanData/hand_clean/young1_2_hand_c.csv')\r\n",
        "young1_3_hand =  pd.read_csv('Data/CleanData/hand_clean/young1_3_hand_c.csv')\r\n",
        "young2_1_hand =  pd.read_csv('Data/CleanData/hand_clean/young2_1_hand_c.csv')\r\n",
        "young2_2_hand =  pd.read_csv('Data/CleanData/hand_clean/young2_2_hand_c.csv')\r\n",
        "young2_3_hand =  pd.read_csv('Data/CleanData/hand_clean/young2_3_hand_c.csv')\r\n",
        "young2_4_hand =  pd.read_csv('Data/CleanData/hand_clean/young2_4_hand_c.csv')\r\n",
        "\r\n",
        "\r\n",
        "# Pocket: Adult\r\n",
        "adult1_1_pocket =  pd.read_csv('Data/CleanData/pocket_clean/adult1_1_pocket_c.csv')\r\n",
        "adult1_2_pocket =  pd.read_csv('Data/CleanData/pocket_clean/adult1_2_pocket_c.csv')\r\n",
        "adult2_1_pocket =  pd.read_csv('Data/CleanData/pocket_clean/adult2_1_pocket_c.csv')\r\n",
        "adult2_2_pocket =  pd.read_csv('Data/CleanData/pocket_clean/adult2_2_pocket_c.csv')\r\n",
        "adult2_3_pocket =  pd.read_csv('Data/CleanData/pocket_clean/adult2_3_pocket_c.csv')\r\n",
        "\r\n",
        "# Pocket: Young\r\n",
        "young1_1_pocket =  pd.read_csv('Data/CleanData/pocket_clean/young1_1_pocket_c.csv')\r\n",
        "young1_2_pocket =  pd.read_csv('Data/CleanData/pocket_clean/young1_2_pocket_c.csv')\r\n",
        "young2_1_pocket =  pd.read_csv('Data/CleanData/pocket_clean/young2_1_pocket_c.csv')\r\n",
        "young2_2_pocket =  pd.read_csv('Data/CleanData/pocket_clean/young2_2_pocket_c.csv')"
      ],
      "execution_count": 29,
      "outputs": []
    },
    {
      "cell_type": "markdown",
      "metadata": {
        "id": "nJC5TBBtqMhY"
      },
      "source": [
        "**Appending DataFrames together in groups**"
      ]
    },
    {
      "cell_type": "code",
      "metadata": {
        "id": "3Nh3myl3CugT"
      },
      "source": [
        "# Appending data from similar groups together\r\n",
        "# The groups we divided them into are:\r\n",
        "# Adult Ankle\r\n",
        "# Young Ankle\r\n",
        "# Adult Hand\r\n",
        "# Young Hand\r\n",
        "# Adult Pocket\r\n",
        "# Young Pocket\r\n",
        "\r\n",
        "# Adult Ankle\r\n",
        "adult_ankle = adult1_1_ankle\r\n",
        "adult_ankle = adult_ankle.append(adult1_2_ankle)\r\n",
        "adult_ankle = adult_ankle.append(adult1_3_ankle)\r\n",
        "adult_ankle = adult_ankle.append(adult2_1_ankle)\r\n",
        "adult_ankle = adult_ankle.append(adult2_2_ankle)\r\n",
        "adult_ankle = adult_ankle.append(adult2_2_ankle)\r\n",
        "\r\n",
        "# Young Ankle\r\n",
        "young_ankle = young1_1_ankle\r\n",
        "young_ankle = young_ankle.append(young1_2_ankle)\r\n",
        "young_ankle = young_ankle.append(young1_3_ankle)\r\n",
        "young_ankle = young_ankle.append(young2_1_ankle)\r\n",
        "young_ankle = young_ankle.append(young2_2_ankle)\r\n",
        "young_ankle = young_ankle.append(young2_3_ankle)\r\n",
        "\r\n",
        "# Adult Hand\r\n",
        "adult_hand = adult1_1_hand\r\n",
        "adult_hand = adult_hand.append(adult1_2_hand)\r\n",
        "adult_hand = adult_hand.append(adult2_1_hand)\r\n",
        "adult_hand = adult_hand.append(adult2_2_hand)\r\n",
        "\r\n",
        "# Young Hand\r\n",
        "young_hand = young1_1_hand\r\n",
        "young_hand = young_hand.append(young1_2_hand)\r\n",
        "young_hand = young_hand.append(young1_3_hand)\r\n",
        "young_hand = young_hand.append(young2_1_hand)\r\n",
        "young_hand = young_hand.append(young2_2_hand)\r\n",
        "young_hand = young_hand.append(young2_3_hand)\r\n",
        "young_hand = young_hand.append(young2_4_hand)\r\n",
        "\r\n",
        "# Adult Pocket\r\n",
        "adult_pocket = adult1_1_pocket\r\n",
        "adult_pocket = adult_pocket.append(adult1_2_pocket)\r\n",
        "adult_pocket = adult_pocket.append(adult2_1_pocket)\r\n",
        "adult_pocket = adult_pocket.append(adult2_2_pocket)\r\n",
        "adult_pocket = adult_pocket.append(adult2_3_pocket)\r\n",
        "\r\n",
        "# Young Pocket\r\n",
        "young_pocket = young1_1_pocket\r\n",
        "young_pocket = young_pocket.append(young1_2_pocket)\r\n",
        "young_pocket = young_pocket.append(young2_1_pocket)\r\n",
        "young_pocket = young_pocket.append(young2_2_pocket)"
      ],
      "execution_count": 30,
      "outputs": []
    },
    {
      "cell_type": "code",
      "metadata": {
        "colab": {
          "base_uri": "https://localhost:8080/",
          "height": 419
        },
        "id": "lHHVjf2sJnrN",
        "outputId": "e11359a1-015f-498b-88e5-7f04a1701546"
      },
      "source": [
        "# Deleting unwanted column Timestamp\r\n",
        "del adult_hand['Timestamp']\r\n",
        "del young_hand['Timestamp']\r\n",
        "del adult_ankle['Timestamp']\r\n",
        "del young_ankle['Timestamp']\r\n",
        "del adult_pocket['Timestamp']\r\n",
        "del young_pocket['Timestamp']\r\n",
        "\r\n",
        "# Defining Labels for various Groups\r\n",
        "adult_hand['Label'] = 'ah'\r\n",
        "young_hand['Label'] = 'yh'\r\n",
        "adult_ankle['Label'] = 'aa'\r\n",
        "young_ankle['Label'] = 'ya'\r\n",
        "adult_pocket['Label'] = 'ap'\r\n",
        "young_pocket['Label'] = 'yp'"
      ],
      "execution_count": 31,
      "outputs": [
        {
          "output_type": "execute_result",
          "data": {
            "text/html": [
              "<div>\n",
              "<style scoped>\n",
              "    .dataframe tbody tr th:only-of-type {\n",
              "        vertical-align: middle;\n",
              "    }\n",
              "\n",
              "    .dataframe tbody tr th {\n",
              "        vertical-align: top;\n",
              "    }\n",
              "\n",
              "    .dataframe thead th {\n",
              "        text-align: right;\n",
              "    }\n",
              "</style>\n",
              "<table border=\"1\" class=\"dataframe\">\n",
              "  <thead>\n",
              "    <tr style=\"text-align: right;\">\n",
              "      <th></th>\n",
              "      <th>AccCleanX</th>\n",
              "      <th>AccCleanY</th>\n",
              "      <th>AccCleanZ</th>\n",
              "      <th>AccNet</th>\n",
              "      <th>Label</th>\n",
              "    </tr>\n",
              "  </thead>\n",
              "  <tbody>\n",
              "    <tr>\n",
              "      <th>0</th>\n",
              "      <td>-0.915168</td>\n",
              "      <td>1.037253</td>\n",
              "      <td>-0.054208</td>\n",
              "      <td>1.386434</td>\n",
              "      <td>ah</td>\n",
              "    </tr>\n",
              "    <tr>\n",
              "      <th>1</th>\n",
              "      <td>-0.635811</td>\n",
              "      <td>1.166234</td>\n",
              "      <td>-0.017749</td>\n",
              "      <td>1.372424</td>\n",
              "      <td>ah</td>\n",
              "    </tr>\n",
              "    <tr>\n",
              "      <th>2</th>\n",
              "      <td>-0.601273</td>\n",
              "      <td>1.220918</td>\n",
              "      <td>-0.029936</td>\n",
              "      <td>1.409941</td>\n",
              "      <td>ah</td>\n",
              "    </tr>\n",
              "    <tr>\n",
              "      <th>3</th>\n",
              "      <td>-0.675219</td>\n",
              "      <td>1.240081</td>\n",
              "      <td>-0.023124</td>\n",
              "      <td>1.453569</td>\n",
              "      <td>ah</td>\n",
              "    </tr>\n",
              "    <tr>\n",
              "      <th>4</th>\n",
              "      <td>-0.659369</td>\n",
              "      <td>1.254232</td>\n",
              "      <td>-0.100677</td>\n",
              "      <td>1.461082</td>\n",
              "      <td>ah</td>\n",
              "    </tr>\n",
              "    <tr>\n",
              "      <th>...</th>\n",
              "      <td>...</td>\n",
              "      <td>...</td>\n",
              "      <td>...</td>\n",
              "      <td>...</td>\n",
              "      <td>...</td>\n",
              "    </tr>\n",
              "    <tr>\n",
              "      <th>117</th>\n",
              "      <td>-0.726239</td>\n",
              "      <td>0.611080</td>\n",
              "      <td>-0.137611</td>\n",
              "      <td>1.056605</td>\n",
              "      <td>ah</td>\n",
              "    </tr>\n",
              "    <tr>\n",
              "      <th>118</th>\n",
              "      <td>-0.560349</td>\n",
              "      <td>0.932746</td>\n",
              "      <td>0.022545</td>\n",
              "      <td>1.095335</td>\n",
              "      <td>ah</td>\n",
              "    </tr>\n",
              "    <tr>\n",
              "      <th>119</th>\n",
              "      <td>-0.596071</td>\n",
              "      <td>0.954018</td>\n",
              "      <td>0.005407</td>\n",
              "      <td>1.137071</td>\n",
              "      <td>ah</td>\n",
              "    </tr>\n",
              "    <tr>\n",
              "      <th>120</th>\n",
              "      <td>-0.623757</td>\n",
              "      <td>0.978706</td>\n",
              "      <td>0.008198</td>\n",
              "      <td>1.172606</td>\n",
              "      <td>ah</td>\n",
              "    </tr>\n",
              "    <tr>\n",
              "      <th>121</th>\n",
              "      <td>-0.809266</td>\n",
              "      <td>0.977810</td>\n",
              "      <td>-0.025208</td>\n",
              "      <td>1.271494</td>\n",
              "      <td>ah</td>\n",
              "    </tr>\n",
              "  </tbody>\n",
              "</table>\n",
              "<p>538 rows × 5 columns</p>\n",
              "</div>"
            ],
            "text/plain": [
              "     AccCleanX  AccCleanY  AccCleanZ    AccNet Label\n",
              "0    -0.915168   1.037253  -0.054208  1.386434    ah\n",
              "1    -0.635811   1.166234  -0.017749  1.372424    ah\n",
              "2    -0.601273   1.220918  -0.029936  1.409941    ah\n",
              "3    -0.675219   1.240081  -0.023124  1.453569    ah\n",
              "4    -0.659369   1.254232  -0.100677  1.461082    ah\n",
              "..         ...        ...        ...       ...   ...\n",
              "117  -0.726239   0.611080  -0.137611  1.056605    ah\n",
              "118  -0.560349   0.932746   0.022545  1.095335    ah\n",
              "119  -0.596071   0.954018   0.005407  1.137071    ah\n",
              "120  -0.623757   0.978706   0.008198  1.172606    ah\n",
              "121  -0.809266   0.977810  -0.025208  1.271494    ah\n",
              "\n",
              "[538 rows x 5 columns]"
            ]
          },
          "metadata": {
            "tags": []
          },
          "execution_count": 31
        }
      ]
    },
    {
      "cell_type": "markdown",
      "metadata": {
        "id": "qREKyk5JqW2v"
      },
      "source": [
        "**Writing to CSV Files**"
      ]
    },
    {
      "cell_type": "code",
      "metadata": {
        "id": "fOFdlDVgFe_E"
      },
      "source": [
        "# Writing to CSV files\r\n",
        "adult_ankle.to_csv('Data/GroupData/adult_ankle.csv', index=False)\r\n",
        "young_ankle.to_csv('Data/GroupData/young_ankle.csv', index=False)\r\n",
        "adult_hand.to_csv('Data/GroupData/adult_hand.csv', index=False)\r\n",
        "young_hand.to_csv('Data/GroupData/young_hand.csv', index=False)\r\n",
        "adult_pocket.to_csv('Data/GroupData/adult_pocket.csv', index=False)\r\n",
        "young_pocket.to_csv('Data/GroupData/young_pocket.csv', index=False)"
      ],
      "execution_count": 32,
      "outputs": []
    }
  ]
}