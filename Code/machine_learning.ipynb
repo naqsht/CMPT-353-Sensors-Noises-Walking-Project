{
  "nbformat": 4,
  "nbformat_minor": 0,
  "metadata": {
    "colab": {
      "name": "CMPT353MachineLeraning.ipynb",
      "provenance": [],
      "collapsed_sections": []
    },
    "kernelspec": {
      "name": "python3",
      "display_name": "Python 3"
    }
  },
  "cells": [
    {
      "cell_type": "code",
      "metadata": {
        "colab": {
          "base_uri": "https://localhost:8080/"
        },
        "id": "7EHkPoAsBQSU",
        "outputId": "5152799e-5134-42ae-9095-9479d5d063e5"
      },
      "source": [
        "#from google.colab import drive\r\n",
        "#drive.mount('/content/drive')\r\n",
        "import numpy as np\r\n",
        "import pandas as pd\r\n",
        "import matplotlib.pyplot as plt\r\n",
        "\r\n",
        "from statsmodels.nonparametric.smoothers_lowess import lowess\r\n",
        "from scipy import signal, stats \r\n",
        "\r\n",
        "from sklearn.model_selection import train_test_split\r\n",
        "from sklearn.preprocessing import FunctionTransformer, StandardScaler\r\n",
        "from sklearn.pipeline import make_pipeline\r\n",
        "from sklearn.naive_bayes import GaussianNB\r\n",
        "from sklearn.tree import DecisionTreeClassifier\r\n",
        "from sklearn.ensemble import RandomForestClassifier\r\n",
        "from sklearn.neighbors import KNeighborsClassifier\r\n",
        "from sklearn.ensemble import GradientBoostingClassifier\r\n",
        "from sklearn.neural_network import MLPClassifier\r\n",
        "from sklearn.decomposition import PCA"
      ],
      "execution_count": null,
      "outputs": [
        {
          "output_type": "stream",
          "text": [
            "Mounted at /content/drive\n"
          ],
          "name": "stdout"
        },
        {
          "output_type": "stream",
          "text": [
            "/usr/local/lib/python3.6/dist-packages/statsmodels/tools/_testing.py:19: FutureWarning: pandas.util.testing is deprecated. Use the functions in the public API at pandas.testing instead.\n",
            "  import pandas.util.testing as tm\n"
          ],
          "name": "stderr"
        }
      ]
    },
    {
      "cell_type": "code",
      "metadata": {
        "id": "mcCfM6nqCvl0",
        "colab": {
          "base_uri": "https://localhost:8080/"
        },
        "outputId": "cd389559-f3de-4622-e6c8-1292fbf7f80e"
      },
      "source": [
        "# Reading the CSV file\r\n",
        "adult_ankle = pd.read_csv('/Data/GroupData/adult_ankle.csv')\r\n",
        "young_ankle = pd.read_csv('/Data/GroupData/young_ankle.csv')\r\n",
        "adult_hand = pd.read_csv('/Data/GroupData/adult_hand.csv')\r\n",
        "young_hand = pd.read_csv('/Data/GroupData/young_hand.csv')\r\n",
        "adult_pocket = pd.read_csv('/Data/GroupData/adult_pocket.csv')\r\n",
        "young_pocket = pd.read_csv('/Data/GroupData/young_pocket.csv')\r\n",
        "\r\n",
        "all_data = adult_ankle.append(young_ankle)\r\n",
        "all_data = all_data.append(adult_hand)\r\n",
        "all_data = all_data.append(young_hand)\r\n",
        "all_data = all_data.append(adult_pocket)\r\n",
        "all_data = all_data.append(young_pocket)\r\n",
        "\r\n",
        "# generating features\r\n",
        "\r\n",
        "all_data = all_data.reset_index()\r\n",
        "all_data['lowess_x'] = lowess(endog=all_data['AccCleanX'], exog=all_data['index'], frac=0.004)[:,1]\r\n",
        "all_data['lowess_y'] = lowess(endog=all_data['AccCleanY'], exog=all_data['index'], frac=0.004)[:,1]\r\n",
        "all_data['lowess_z'] = lowess(endog=all_data['AccCleanZ'], exog=all_data['index'], frac=0.004)[:,1]\r\n",
        "\r\n",
        "inst_acc = np.zeros(len(all_data['AccNet'])) \r\n",
        "for i in range(0,len(all_data['AccNet'])):\r\n",
        "  if i==0:\r\n",
        "    inst_acc[0] = all_data['AccNet'].iloc[0]\r\n",
        "  else:\r\n",
        "    inst_acc[i] = all_data['AccNet'].iloc[i] - all_data['AccNet'].iloc[i-1]\r\n",
        "all_data['AccInst'] = inst_acc\r\n",
        "\r\n",
        "\r\n",
        "#putting features/labels into x and y\r\n",
        "X = all_data[['AccInst','AccNet','AccCleanX','AccCleanY','AccCleanZ','lowess_x','lowess_y','lowess_z']]\r\n",
        "y_age = all_data['Label'].str[:1]\r\n",
        "y_pos = all_data['Label'].str[1:]\r\n",
        "y = all_data['Label']"
      ],
      "execution_count": null,
      "outputs": [
        {
          "output_type": "execute_result",
          "data": {
            "text/plain": [
              "0       a\n",
              "1       a\n",
              "2       a\n",
              "3       a\n",
              "4       a\n",
              "       ..\n",
              "5227    p\n",
              "5228    p\n",
              "5229    p\n",
              "5230    p\n",
              "5231    p\n",
              "Name: Label, Length: 5232, dtype: object"
            ]
          },
          "metadata": {
            "tags": []
          },
          "execution_count": 11
        }
      ]
    },
    {
      "cell_type": "code",
      "metadata": {
        "colab": {
          "base_uri": "https://localhost:8080/"
        },
        "id": "2w0AiE9sJHhb",
        "outputId": "fa10e97e-fbbe-43f2-f962-d928ce1ab5a3"
      },
      "source": [
        "#train different models\r\n",
        "\r\n",
        "X_train, X_valid, y_train, y_valid = train_test_split(X, y_pos)\r\n",
        "\r\n",
        "naive_bayes = make_pipeline(\r\n",
        "    StandardScaler(),\r\n",
        "    GaussianNB()\r\n",
        ")\r\n",
        "\r\n",
        "KNN = make_pipeline(\r\n",
        "    StandardScaler(),\r\n",
        "    KNeighborsClassifier(n_neighbors=5)\r\n",
        ")\r\n",
        "\r\n",
        "\r\n",
        "decision_tree = make_pipeline(\r\n",
        "    StandardScaler(),\r\n",
        "    DecisionTreeClassifier(max_depth=8)\r\n",
        ")\r\n",
        "\r\n",
        "random_forest = make_pipeline(\r\n",
        "    StandardScaler(),\r\n",
        "    RandomForestClassifier(n_estimators=100, max_depth=8, min_samples_leaf=5)\r\n",
        ")\r\n",
        "\r\n",
        "gradient_boost = make_pipeline(\r\n",
        "    StandardScaler(),\r\n",
        "    GradientBoostingClassifier(n_estimators=50, max_depth=8, min_samples_leaf=5)\r\n",
        ")\r\n",
        "\r\n",
        "neural_network = make_pipeline(\r\n",
        "    StandardScaler(),\r\n",
        "    MLPClassifier(solver='lbfgs', hidden_layer_sizes=(8,6,4), activation='logistic', max_iter=50000)\r\n",
        ")\r\n",
        "\r\n",
        "naive_bayes.fit(X_train,y_train)\r\n",
        "KNN.fit(X_train,y_train)\r\n",
        "decision_tree.fit(X_train,y_train)\r\n",
        "random_forest.fit(X_train,y_train)\r\n",
        "gradient_boost.fit(X_train,y_train)\r\n",
        "neural_network.fit(X_train,y_train)\r\n",
        "\r\n",
        "# print results\r\n",
        "\r\n",
        "print('Naive Bayes Score: ', naive_bayes.score(X_valid, y_valid))\r\n",
        "print('KNN Score: ', KNN.score(X_valid, y_valid))\r\n",
        "print('Decision Tree Score: ', decision_tree.score(X_valid, y_valid))\r\n",
        "print('Random Forest Score: ', random_forest.score(X_valid, y_valid))\r\n",
        "print('Gradient Boosting Score: ', gradient_boost.score(X_valid, y_valid))\r\n",
        "print('Neural Network Score: ', neural_network.score(X_valid, y_valid))\r\n"
      ],
      "execution_count": null,
      "outputs": [
        {
          "output_type": "stream",
          "text": [
            "Naive Bayes Score:  0.9923547400611621\n",
            "KNN Score:  0.996177370030581\n",
            "Decision Tree Score:  0.9969418960244648\n",
            "Random Forest Score:  0.9969418960244648\n",
            "Gradient Boosting Score:  0.9977064220183486\n",
            "Neural Network Score:  0.9946483180428135\n"
          ],
          "name": "stdout"
        }
      ]
    },
    {
      "cell_type": "code",
      "metadata": {
        "id": "RjdORzWBJ_NO"
      },
      "source": [
        ""
      ],
      "execution_count": null,
      "outputs": []
    }
  ]
}